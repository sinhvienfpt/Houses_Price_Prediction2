{
 "cells": [
  {
   "cell_type": "code",
   "id": "initial_id",
   "metadata": {
    "collapsed": true,
    "ExecuteTime": {
     "end_time": "2024-04-25T03:41:06.496428Z",
     "start_time": "2024-04-25T03:41:06.490602Z"
    }
   },
   "source": "print(\"HELLO WORLD!\")",
   "outputs": [
    {
     "name": "stdout",
     "output_type": "stream",
     "text": [
      "HELLO WORLD!\n"
     ]
    }
   ],
   "execution_count": 2
  },
  {
   "metadata": {
    "ExecuteTime": {
     "end_time": "2024-04-25T03:41:06.545270Z",
     "start_time": "2024-04-25T03:41:06.500437Z"
    }
   },
   "cell_type": "code",
   "source": [
    "import pandas as pd \n",
    "from sklearn.model_selection import train_test_split\n",
    "\n",
    "# Import data \n",
    "train_dataset = pd.read_csv('train.csv')\n",
    "test_dataset = pd.read_csv('test.csv')\n",
    "\n",
    "# Remove rows with missing target\n",
    "train_dataset.dropna(\n",
    "    axis=0,\n",
    "    subset=['SalePrice'],\n",
    "    inplace=True\n",
    ")\n",
    "y = train_dataset['SalePrice']\n",
    "train_dataset.drop(['SalePrice'], axis=1,inplace=True)\n",
    "\n",
    "# Working with only numerical value columns\n",
    "X = train_dataset.select_dtypes(exclude=['object'])\n",
    "TEST = train_dataset.select_dtypes(exclude=['object'])\n",
    "\n",
    "# Train : 0.8 , Test : 0.2 \n",
    "x_train,x_valid,y_train,y_valid = train_test_split(\n",
    "    X,y,\n",
    "    train_size=0.8,\n",
    "    test_size=0.2,\n",
    "    random_state=0\n",
    ")"
   ],
   "id": "8cbb3b7eab8cad33",
   "outputs": [],
   "execution_count": 3
  }
 ],
 "metadata": {
  "kernelspec": {
   "display_name": "Python 3",
   "language": "python",
   "name": "python3"
  },
  "language_info": {
   "codemirror_mode": {
    "name": "ipython",
    "version": 2
   },
   "file_extension": ".py",
   "mimetype": "text/x-python",
   "name": "python",
   "nbconvert_exporter": "python",
   "pygments_lexer": "ipython2",
   "version": "2.7.6"
  }
 },
 "nbformat": 4,
 "nbformat_minor": 5
}
